{
  "nbformat": 4,
  "nbformat_minor": 0,
  "metadata": {
    "colab": {
      "name": "TASK 3.ipynb",
      "provenance": [],
      "include_colab_link": true
    },
    "kernelspec": {
      "name": "python3",
      "display_name": "Python 3"
    },
    "language_info": {
      "name": "python"
    }
  },
  "cells": [
    {
      "cell_type": "markdown",
      "metadata": {
        "id": "view-in-github",
        "colab_type": "text"
      },
      "source": [
        "<a href=\"https://colab.research.google.com/github/AarabhiParameswran/PYTHON/blob/main/TASK_3.ipynb\" target=\"_parent\"><img src=\"https://colab.research.google.com/assets/colab-badge.svg\" alt=\"Open In Colab\"/></a>"
      ]
    },
    {
      "cell_type": "markdown",
      "metadata": {
        "id": "z20IIB0eUQMN"
      },
      "source": [
        "1 - Write a program which takes a number as input from the user and check whether the number is odd or even.If odd print the number is odd if not print it is even."
      ]
    },
    {
      "cell_type": "code",
      "metadata": {
        "id": "dVgGJ-wTVRit"
      },
      "source": [
        "#please enter your answer below this line\n",
        "n=int(input(\"Enter a number\"))\n",
        "if(n%2==0):\n",
        "  print(n,\"is even number\")\n",
        "else:\n",
        "  print(n,\"is odd number\")"
      ],
      "execution_count": null,
      "outputs": []
    },
    {
      "cell_type": "markdown",
      "metadata": {
        "id": "7778XD8PVblj"
      },
      "source": [
        "2 -Write a program to find the largest among three numbers and print the largest number."
      ]
    },
    {
      "cell_type": "code",
      "metadata": {
        "id": "m0tUOkOFWR-d"
      },
      "source": [
        "#please enter your answer below this line\n",
        "A=int(input(\"Enter first number\"))\n",
        "B=int(input(\"Enter second number\"))\n",
        "C=int(input(\"Enter third number\"))\n",
        "if(A>B and A>C):\n",
        "  print(A,\"is greatest of three numbers \")\n",
        "elif(B>A and B>C):\n",
        "  print(B,\"is greatest of three numbers\")\n",
        "else:\n",
        "  print(C,\"is greatest of three numbers\")"
      ],
      "execution_count": null,
      "outputs": []
    },
    {
      "cell_type": "markdown",
      "metadata": {
        "id": "Jg2Ns4OQWaJy"
      },
      "source": [
        "3 -Write a function to prompt for a score between 0.0 and 1.0.\n",
        "\n",
        "    If the score is out of range, print an error.\n",
        "    If the score is between 0.0 and 1.0, print a grade using the following table:\n",
        "    Score Grade\n",
        "             Score\tGrade\n",
        "            >= 0.9\tA\n",
        "            >= 0.8\tB\n",
        "            >= 0.7\tC\n",
        "            >= 0.6\tD\n",
        "             < 0.6\tF\n",
        "If the user enters a value out of range, print a suitable error message and exit. For the test, enter a score of 0.85."
      ]
    },
    {
      "cell_type": "code",
      "metadata": {
        "id": "6DLbGe6XXZPx"
      },
      "source": [
        "#please enter your answer below this line\n",
        "A=float(input(\"Enter  score\"))\n",
        "if(A>0.0 and A<1.0):\n",
        "\n",
        "  if(A<0.6):\n",
        "    print(\"Grade = F\")\n",
        "\n",
        "  else:\n",
        "    if(A<=0.6):\n",
        "      print(\"Grade = D\")\n",
        "\n",
        "    else:\n",
        "      if(A<=0.7):\n",
        "        print(\"Grade = C\")\n",
        "      else:\n",
        "        if(A<=0.8):\n",
        "          print(\"Grade = B\")\n",
        "        else:\n",
        "            print(\"Grade = A\")\n",
        "else:\n",
        "  print(\"Sorry this student have  failed .Invalid data\")\n",
        "  exit()"
      ],
      "execution_count": null,
      "outputs": []
    },
    {
      "cell_type": "markdown",
      "metadata": {
        "id": "-o0scDq7WkVT"
      },
      "source": [
        ""
      ]
    }
  ]
}