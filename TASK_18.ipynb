{
  "nbformat": 4,
  "nbformat_minor": 0,
  "metadata": {
    "colab": {
      "name": "TASK 18.ipynb",
      "provenance": [],
      "include_colab_link": true
    },
    "kernelspec": {
      "name": "python3",
      "display_name": "Python 3"
    },
    "language_info": {
      "name": "python"
    }
  },
  "cells": [
    {
      "cell_type": "markdown",
      "metadata": {
        "id": "view-in-github",
        "colab_type": "text"
      },
      "source": [
        "<a href=\"https://colab.research.google.com/github/AarabhiParameswran/PYTHON/blob/main/TASK_18.ipynb\" target=\"_parent\"><img src=\"https://colab.research.google.com/assets/colab-badge.svg\" alt=\"Open In Colab\"/></a>"
      ]
    },
    {
      "cell_type": "markdown",
      "metadata": {
        "id": "_JgXT8pEAjU4"
      },
      "source": [
        "1. \n",
        "Create a DataFrame by passing a random numpy array,with a datetie index and labelled columns.and,\n",
        "    - slice its first three rows and display.\n",
        "    - slice its odd indexed rows.\n",
        "    - display the dates from 1st postion to 4 th position."
      ]
    },
    {
      "cell_type": "code",
      "metadata": {
        "id": "5zFM5VOJBKBV"
      },
      "source": [
        "#please provide your answer below this line.\n",
        "import pandas as pd\n",
        " \n",
        "import numpy as np\n",
        " \n",
        "dates=pd.date_range('20201010', periods s = 6\n",
        " \n",
        "df=pd.DataFrame (np.random.randn(6,4), index-dates,columns-list('ABCD'))\n",
        " \n",
        "print (df)\n",
        " \n",
        "print(df.iloc [0:3])\n",
        " \n",
        "print(df.iloc [1::2])\n",
        " \n",
        "print(df.iloc[0:5])"
      ],
      "execution_count": null,
      "outputs": []
    },
    {
      "cell_type": "markdown",
      "metadata": {
        "id": "QuoucvjxBPmX"
      },
      "source": [
        "2. Create a DataFrame by passing a random numpy array,with a datetie index and labelled columns.and\n",
        "  - Dislplay the index from the 1 to 3 date and the columns A and B of respective data.\n",
        "  - Display the datas at the 3rd index.\n",
        "  - Display datas from 2nd to 5th.\n",
        "  - Display the datas from the index 1,2,4 and the column 0 and 2."
      ]
    },
    {
      "cell_type": "code",
      "metadata": {
        "id": "qV_wzsp1DUKI"
      },
      "source": [
        "#please provide your answer below thins line.\n",
        "import pandas as pd\n",
        "\n",
        "import numpy as np\n",
        "\n",
        "dates=pd.date_range('20201010, iods=6)\n",
        "\n",
        "df=pd.DataFrame (np.random.randn(6,4), index-dates,columns-list('ABCD'))\n",
        "\n",
        "print(df)\n",
        "\n",
        "print(df.iloc [1:4,0:2])\n",
        "\n",
        "print(df.iloc [3])\n",
        "\n",
        "print (df.iloc [2:6])\n",
        "\n",
        "print (df.iloc [[1,2,4], [0,2]])"
      ],
      "execution_count": null,
      "outputs": []
    }
  ]
}