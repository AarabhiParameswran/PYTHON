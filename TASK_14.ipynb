{
  "nbformat": 4,
  "nbformat_minor": 0,
  "metadata": {
    "colab": {
      "name": "TASK 14.ipynb",
      "provenance": [],
      "include_colab_link": true
    },
    "kernelspec": {
      "name": "python3",
      "display_name": "Python 3"
    },
    "language_info": {
      "name": "python"
    }
  },
  "cells": [
    {
      "cell_type": "markdown",
      "metadata": {
        "id": "view-in-github",
        "colab_type": "text"
      },
      "source": [
        "<a href=\"https://colab.research.google.com/github/AarabhiParameswran/PYTHON/blob/main/TASK_14.ipynb\" target=\"_parent\"><img src=\"https://colab.research.google.com/assets/colab-badge.svg\" alt=\"Open In Colab\"/></a>"
      ]
    },
    {
      "cell_type": "markdown",
      "metadata": {
        "id": "pDx7KyZoXYNb"
      },
      "source": [
        "1. Create two arrays, one containing elements [1,2], [3,4] and another containing elements [8,18] Now find the solution for this linear equation."
      ]
    },
    {
      "cell_type": "code",
      "metadata": {
        "id": "1HQu2yB2YMbj"
      },
      "source": [
        "\n",
        "import numpy as np\n",
        "a=np.array ([[1,2],[3,4]])\n",
        "print (a)\n",
        "b=np.array ([[8],[18]])\n",
        "print (b)\n",
        "x=np.linalg.solve(a,b)\n",
        "print (x)#please type your answer below this line."
      ],
      "execution_count": null,
      "outputs": []
    },
    {
      "cell_type": "markdown",
      "metadata": {
        "id": "RyDr51p8ZxQp"
      },
      "source": [
        "2. Create an array containing elements [2, 3, 4]. Now find the sin,cos,tan values of this array elements."
      ]
    },
    {
      "cell_type": "code",
      "metadata": {
        "id": "iXZByHNOaXbk"
      },
      "source": [
        "#please type your answer below this line.\n",
        "import numpy as np\n",
        "a=np.array([2,3,4])\n",
        "print (a)\n",
        "x=np.sin(a)\n",
        "print (x)\n",
        "y=np.cos(a)\n",
        "print (y)\n",
        "z=np.tan(a)\n",
        "print (z)"
      ],
      "execution_count": null,
      "outputs": []
    },
    {
      "cell_type": "markdown",
      "metadata": {
        "id": "Itk2DMc6b60J"
      },
      "source": [
        "3. Given b=[5,6], then find,\n",
        "\n",
        "  a) 2sinb\n",
        "  b) 2cos3b\n",
        "  c) 4tan2b"
      ]
    },
    {
      "cell_type": "code",
      "metadata": {
        "id": "lgxpIaKebw5y"
      },
      "source": [
        "#please type your answer below this line.\n",
        "import numpy as np\n",
        "b=[5,6]\n",
        "print(b)\n",
        "a=2*np.sin(b)\n",
        "print(a)\n",
        "c=2*np.cos (3*b)\n",
        "print(c)\n",
        "d=4*np.tan(2*b)\n",
        "print(d)"
      ],
      "execution_count": null,
      "outputs": []
    }
  ]
}
