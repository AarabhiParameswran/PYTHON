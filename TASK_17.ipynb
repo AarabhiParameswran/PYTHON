{
  "nbformat": 4,
  "nbformat_minor": 0,
  "metadata": {
    "colab": {
      "name": "TASK 17.ipynb",
      "provenance": [],
      "include_colab_link": true
    },
    "kernelspec": {
      "name": "python3",
      "display_name": "Python 3"
    },
    "language_info": {
      "name": "python"
    }
  },
  "cells": [
    {
      "cell_type": "markdown",
      "metadata": {
        "id": "view-in-github",
        "colab_type": "text"
      },
      "source": [
        "<a href=\"https://colab.research.google.com/github/AarabhiParameswran/PYTHON/blob/main/TASK_17.ipynb\" target=\"_parent\"><img src=\"https://colab.research.google.com/assets/colab-badge.svg\" alt=\"Open In Colab\"/></a>"
      ]
    },
    {
      "cell_type": "markdown",
      "metadata": {
        "id": "0SLapvpoaeYY"
      },
      "source": [
        "1. Create a DataFrame by passing a random numpy array,with a datetie index and labelled columns.and display its,\n",
        "     - Head\n",
        "     - Tail\n",
        "     - Index \n",
        "     - Columns\n",
        "     - Values\n",
        "     - statistics\n"
      ]
    },
    {
      "cell_type": "code",
      "metadata": {
        "id": "zJDkjyVxa5yU"
      },
      "source": [
        "#please type your answer below this line.\n",
        "import pandas as pd import numpy as np\n",
        " \n",
        "dates=pd.date_range('2020101 0', periods=6)\n",
        " \n",
        "df=pd.DataFrame (np.random.rand n(6,4), index=dates, columns=lis\n",
        " \n",
        "t('ABCD'))\n",
        " \n",
        "print (df)\n",
        " \n",
        "print (df.head())\n",
        " \n",
        "print(df.tail()) print(df.index)\n",
        " \n",
        "print (pd.set_option('display.m ax_columns, None))\n",
        " \n",
        "print(df.values) print (df.describe())"
      ],
      "execution_count": null,
      "outputs": []
    },
    {
      "cell_type": "markdown",
      "metadata": {
        "id": "xnkA2mKDdyoO"
      },
      "source": [
        "2. Use the above table and,\n",
        "      - find transpose of your data.\n",
        "      - sort the index in the descending order of the date."
      ]
    },
    {
      "cell_type": "code",
      "metadata": {
        "id": "uqcQSEOufJ5P"
      },
      "source": [
        "#please provide your answer below this line.\n",
        "import pandas as pd import numpy as np\n",
        " \n",
        "dates-pd.date_range('2020101 0', periods=6)\n",
        " \n",
        "df=pd.DataFrame (np.random.rand n(6,4), index=dates, columns=lis\n",
        " \n",
        "t('ABCD'))\n",
        " \n",
        "print (df)\n",
        " \n",
        "print (df.T)\n",
        " \n",
        "print (df.sort_index (ascending=\n",
        " \n",
        "False))"
      ],
      "execution_count": null,
      "outputs": []
    },
    {
      "cell_type": "markdown",
      "metadata": {
        "id": "ss7s_8iDbAcL"
      },
      "source": [
        ""
      ]
    }
  ]
}