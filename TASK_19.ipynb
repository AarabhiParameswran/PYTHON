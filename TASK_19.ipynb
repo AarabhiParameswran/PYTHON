{
  "nbformat": 4,
  "nbformat_minor": 0,
  "metadata": {
    "colab": {
      "name": "TASK 19.ipynb",
      "provenance": [],
      "include_colab_link": true
    },
    "kernelspec": {
      "name": "python3",
      "display_name": "Python 3"
    },
    "language_info": {
      "name": "python"
    }
  },
  "cells": [
    {
      "cell_type": "markdown",
      "metadata": {
        "id": "view-in-github",
        "colab_type": "text"
      },
      "source": [
        "<a href=\"https://colab.research.google.com/github/AarabhiParameswran/PYTHON/blob/main/TASK_19.ipynb\" target=\"_parent\"><img src=\"https://colab.research.google.com/assets/colab-badge.svg\" alt=\"Open In Colab\"/></a>"
      ]
    },
    {
      "cell_type": "markdown",
      "metadata": {
        "id": "6J-6GvX2JUcC"
      },
      "source": [
        "1. Create a DataFrame by passing a random numpy array,with a dateted index and labelled columns and display,\n",
        "  - where values of the column A is greater than 0.\n",
        "  - where values of the columns A is greater than 0 and B greater than -1.\n",
        "  - where values of the columns A  is greater than 0 or B greater than -1.\n"
      ]
    },
    {
      "cell_type": "code",
      "metadata": {
        "id": "xX-5VikpLcHL"
      },
      "source": [
        "#please type your code below this line.\n",
        "import pandas as pd\n",
        " \n",
        "import numpy as np\n",
        " \n",
        "dates=pd.date_range('2020101 0', periods=6)\n",
        " \n",
        "df=pd.DataFrame(np.random.rand n(6,4), index=dates, columns=list('ABCD'))\n",
        " \n",
        "print(df)\n",
        " \n",
        "a=df [ A>0]\n",
        " \n",
        "print(a)\n",
        " \n",
        "print(df [( A>0)8(df.B>-1)])\n",
        " \n",
        "print(df[(df.A>0)| (df.B>-1)])"
      ],
      "execution_count": null,
      "outputs": []
    },
    {
      "cell_type": "markdown",
      "metadata": {
        "id": "1WAf9SbwLp6o"
      },
      "source": [
        "2. Create a DataFrame by passing a random numpy array,with a dateted index and labelled columns and check if ,\n",
        "  - the values of the table are greater the zero or not.\n",
        "  - the value at the postion (0,0) is equal to NaN or not."
      ]
    },
    {
      "cell_type": "code",
      "metadata": {
        "id": "rBrt8pMeM2Q5"
      },
      "source": [
        "#please type your code below this line.\n",
        "import pandas as pd\n",
        " \n",
        "import numpy as np\n",
        " \n",
        "dates=pd.date_range('20201010', periods=6)\n",
        "df=pd.DataFrame (np.random.rand n(6,4),\n",
        "index=dates,\n",
        "columns=list('ABCD'))\n",
        "print (df)\n",
        " \n",
        "print (df > 0)\n",
        " \n",
        "df11 = df [dates [0], 'A'] print (pd. isna (df1))"
      ],
      "execution_count": null,
      "outputs": []
    },
    {
      "cell_type": "markdown",
      "metadata": {
        "id": "IfM9XYmiNaKB"
      },
      "source": [
        "3. Create a DataFrame by passing a random numpy array,with a dateted index and labelled columns and,\n",
        "  - reindex the index with even dates.\n",
        "  - create a column with values NaN.\n",
        "  - make the values of the first two index of the newly created column as 1"
      ]
    },
    {
      "cell_type": "code",
      "metadata": {
        "id": "F-w8kEfaORg3"
      },
      "source": [
        "#please type your answer below this line.\n",
        "Import pandas as pd\n",
        "\n",
        "import numpy as np\n",
        "\n",
        "dates=pd.date_range('20201010, periods=6)\n",
        "\n",
        "df=pd.DataFrame (np.random.randn(6,4), index-dates, columns=list('ABCD'))\n",
        "\n",
        "print (df)\n",
        "\n",
        "df1-df.reindex(index=dates [::2],columns-list(df.columns))\n",
        "\n",
        "print (df1)\n",
        "\n",
        "print(dfi.assign(E-np.nan))\n",
        "\n",
        "df1.loc[dates [0]:dates [2], 'E']-1\n",
        "\n",
        "print(df1)"
      ],
      "execution_count": null,
      "outputs": []
    }
  ]
}