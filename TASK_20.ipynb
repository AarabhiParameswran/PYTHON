{
  "nbformat": 4,
  "nbformat_minor": 0,
  "metadata": {
    "colab": {
      "name": "TASK 20.ipynb",
      "provenance": [],
      "include_colab_link": true
    },
    "kernelspec": {
      "name": "python3",
      "display_name": "Python 3"
    },
    "language_info": {
      "name": "python"
    }
  },
  "cells": [
    {
      "cell_type": "markdown",
      "metadata": {
        "id": "view-in-github",
        "colab_type": "text"
      },
      "source": [
        "<a href=\"https://colab.research.google.com/github/AarabhiParameswran/PYTHON/blob/main/TASK_20.ipynb\" target=\"_parent\"><img src=\"https://colab.research.google.com/assets/colab-badge.svg\" alt=\"Open In Colab\"/></a>"
      ]
    },
    {
      "cell_type": "markdown",
      "metadata": {
        "id": "8LIfdcjDWmC3"
      },
      "source": [
        "1. In the data given below,\n",
        "  - find the boolean mask where value is nan\n",
        "  - remove the row with missing data.\n"
      ]
    },
    {
      "cell_type": "markdown",
      "metadata": {
        "id": "VPCGISRTbYPz"
      },
      "source": [
        ""
      ]
    },
    {
      "cell_type": "code",
      "metadata": {
        "colab": {
          "base_uri": "https://localhost:8080/",
          "height": 172
        },
        "id": "VsZQYRqXXHpG",
        "outputId": "a7fbb796-5f23-496c-a88f-fe1d3a0e4ad2"
      },
      "source": [
        "import pandas as pd\n",
        "import numpy as np\n",
        "dates = pd.date_range('20210101',periods=6)\n",
        "df = pd.DataFrame(np.random.randn(6,4), index=dates,columns=list('ABCD'))\n",
        "s1 = pd.Series([1,2,3,4,5,6], index=pd.date_range('20130102', periods=6))\n",
        "df[\"F\"]=s1\n",
        "df1=df.reindex(index=dates[0:4], columns=list(df.columns) + ['E'])\n",
        "df1.loc[dates[0]:dates[1],'E'] = 1\n",
        "df1\n",
        "#please provide your answer below this line\n",
        "import pandas as pd\n",
        " \n",
        "import numpy as np\n",
        " \n",
        "dates = pd.date_range (20210101',periods=6)\n",
        " \n",
        "df = pd.DataFrame (np.random.randn (6,4), index-dates,columns-list('ABCD')) 51 = pd ([1,2,3,4,5,6], index=pd.date_range ('20130102', periods=6))\n",
        " \n",
        "df[\"F\"]=s1\n",
        " \n",
        "df1-df.reindex(index=dates [0:4], columns-list(df.columns) + ['E'])\n",
        " \n",
        "df1. loc[dates [0]:dates [1], 'E'] = 1\n",
        " \n",
        "print (df1)\n",
        " \n",
        "#please provide your answer below this line\n",
        " \n",
        "print (df1.isnull())\n",
        " \n",
        "print(df1.dropna(axis=0))"
      ],
      "execution_count": null,
      "outputs": [
        {
          "output_type": "execute_result",
          "data": {
            "text/html": [
              "<div>\n",
              "<style scoped>\n",
              "    .dataframe tbody tr th:only-of-type {\n",
              "        vertical-align: middle;\n",
              "    }\n",
              "\n",
              "    .dataframe tbody tr th {\n",
              "        vertical-align: top;\n",
              "    }\n",
              "\n",
              "    .dataframe thead th {\n",
              "        text-align: right;\n",
              "    }\n",
              "</style>\n",
              "<table border=\"1\" class=\"dataframe\">\n",
              "  <thead>\n",
              "    <tr style=\"text-align: right;\">\n",
              "      <th></th>\n",
              "      <th>A</th>\n",
              "      <th>B</th>\n",
              "      <th>C</th>\n",
              "      <th>D</th>\n",
              "      <th>F</th>\n",
              "      <th>E</th>\n",
              "    </tr>\n",
              "  </thead>\n",
              "  <tbody>\n",
              "    <tr>\n",
              "      <th>2021-01-01</th>\n",
              "      <td>1.753632</td>\n",
              "      <td>-1.389483</td>\n",
              "      <td>1.688010</td>\n",
              "      <td>0.106936</td>\n",
              "      <td>NaN</td>\n",
              "      <td>1.0</td>\n",
              "    </tr>\n",
              "    <tr>\n",
              "      <th>2021-01-02</th>\n",
              "      <td>-0.615340</td>\n",
              "      <td>0.431247</td>\n",
              "      <td>0.773828</td>\n",
              "      <td>1.389079</td>\n",
              "      <td>NaN</td>\n",
              "      <td>1.0</td>\n",
              "    </tr>\n",
              "    <tr>\n",
              "      <th>2021-01-03</th>\n",
              "      <td>-0.226931</td>\n",
              "      <td>0.643374</td>\n",
              "      <td>0.538663</td>\n",
              "      <td>0.399954</td>\n",
              "      <td>NaN</td>\n",
              "      <td>NaN</td>\n",
              "    </tr>\n",
              "    <tr>\n",
              "      <th>2021-01-04</th>\n",
              "      <td>0.164982</td>\n",
              "      <td>-0.162946</td>\n",
              "      <td>-2.747825</td>\n",
              "      <td>-1.808843</td>\n",
              "      <td>NaN</td>\n",
              "      <td>NaN</td>\n",
              "    </tr>\n",
              "  </tbody>\n",
              "</table>\n",
              "</div>"
            ],
            "text/plain": [
              "                   A         B         C         D   F    E\n",
              "2021-01-01  1.753632 -1.389483  1.688010  0.106936 NaN  1.0\n",
              "2021-01-02 -0.615340  0.431247  0.773828  1.389079 NaN  1.0\n",
              "2021-01-03 -0.226931  0.643374  0.538663  0.399954 NaN  NaN\n",
              "2021-01-04  0.164982 -0.162946 -2.747825 -1.808843 NaN  NaN"
            ]
          },
          "metadata": {},
          "execution_count": 9
        }
      ]
    },
    {
      "cell_type": "markdown",
      "metadata": {
        "id": "z1sv0aluZhcd"
      },
      "source": [
        "2. In the data given below,fill the missing data with 20."
      ]
    },
    {
      "cell_type": "code",
      "metadata": {
        "colab": {
          "base_uri": "https://localhost:8080/",
          "height": 172
        },
        "id": "x3ZHFCeyZ0j2",
        "outputId": "93e3c634-e2d5-4d9b-c9aa-1b5488632400"
      },
      "source": [
        "import pandas as pd\n",
        "import numpy as np\n",
        "dates = pd.date_range('20210101',periods=6)\n",
        "df = pd.DataFrame(np.random.randn(6,4), index=dates,columns=list('ABCD'))\n",
        "s1 = pd.Series([1,2,3,4,5,6], index=pd.date_range('20130102', periods=6))\n",
        "df[\"F\"]=s1\n",
        "df1=df.reindex(index=dates[0:4], columns=list(df.columns) + ['E'])\n",
        "df1.loc[dates[0]:dates[1],'E'] = 1\n",
        "df1\n",
        "#please provide your answer below this line\n",
        "import pandas as pd\n",
        " \n",
        "import numpy as np\n",
        " \n",
        "dates=pd.date_range (20210101', periods=6)\n",
        " \n",
        "df = pd.DataFrame (np.random.randn (6,4), index=dates, columns=list('ABCD')) s1 = pd.Series ([1,2,3,4,5,6], index-pd.date_range('20130102', periods-6)) df[\"F\"]=s1\n",
        " \n",
        "df1=df.reindex(index=dates [0:4], columns 1s = list (df.columns) + ['E'])\n",
        " \n",
        "df1. loc [dates [0]:dates [1], 'E'] = 1\n",
        " \n",
        "df1\n",
        " \n",
        "#please provide your answer below this line print(df1.fillna (value=20))"
      ],
      "execution_count": null,
      "outputs": [
        {
          "output_type": "execute_result",
          "data": {
            "text/html": [
              "<div>\n",
              "<style scoped>\n",
              "    .dataframe tbody tr th:only-of-type {\n",
              "        vertical-align: middle;\n",
              "    }\n",
              "\n",
              "    .dataframe tbody tr th {\n",
              "        vertical-align: top;\n",
              "    }\n",
              "\n",
              "    .dataframe thead th {\n",
              "        text-align: right;\n",
              "    }\n",
              "</style>\n",
              "<table border=\"1\" class=\"dataframe\">\n",
              "  <thead>\n",
              "    <tr style=\"text-align: right;\">\n",
              "      <th></th>\n",
              "      <th>A</th>\n",
              "      <th>B</th>\n",
              "      <th>C</th>\n",
              "      <th>D</th>\n",
              "      <th>F</th>\n",
              "      <th>E</th>\n",
              "    </tr>\n",
              "  </thead>\n",
              "  <tbody>\n",
              "    <tr>\n",
              "      <th>2021-01-01</th>\n",
              "      <td>-0.458500</td>\n",
              "      <td>-1.351102</td>\n",
              "      <td>0.005608</td>\n",
              "      <td>0.919095</td>\n",
              "      <td>NaN</td>\n",
              "      <td>1.0</td>\n",
              "    </tr>\n",
              "    <tr>\n",
              "      <th>2021-01-02</th>\n",
              "      <td>-0.017434</td>\n",
              "      <td>-0.403255</td>\n",
              "      <td>1.182814</td>\n",
              "      <td>0.134596</td>\n",
              "      <td>NaN</td>\n",
              "      <td>1.0</td>\n",
              "    </tr>\n",
              "    <tr>\n",
              "      <th>2021-01-03</th>\n",
              "      <td>1.015563</td>\n",
              "      <td>1.409724</td>\n",
              "      <td>-2.337136</td>\n",
              "      <td>-0.864526</td>\n",
              "      <td>NaN</td>\n",
              "      <td>NaN</td>\n",
              "    </tr>\n",
              "    <tr>\n",
              "      <th>2021-01-04</th>\n",
              "      <td>0.149562</td>\n",
              "      <td>-1.448837</td>\n",
              "      <td>-0.458878</td>\n",
              "      <td>-0.384322</td>\n",
              "      <td>NaN</td>\n",
              "      <td>NaN</td>\n",
              "    </tr>\n",
              "  </tbody>\n",
              "</table>\n",
              "</div>"
            ],
            "text/plain": [
              "                   A         B         C         D   F    E\n",
              "2021-01-01 -0.458500 -1.351102  0.005608  0.919095 NaN  1.0\n",
              "2021-01-02 -0.017434 -0.403255  1.182814  0.134596 NaN  1.0\n",
              "2021-01-03  1.015563  1.409724 -2.337136 -0.864526 NaN  NaN\n",
              "2021-01-04  0.149562 -1.448837 -0.458878 -0.384322 NaN  NaN"
            ]
          },
          "metadata": {},
          "execution_count": 10
        }
      ]
    },
    {
      "cell_type": "markdown",
      "metadata": {
        "id": "vMzwvpxcZ3G8"
      },
      "source": [
        "3. From the data given below,\n",
        "  - break the data in to pieces from 0 t0 2 ,3 t0 7\n",
        "  - concatenate the pieces.\n",
        "  - concatenate the pieces along axis 1\n",
        "  - label each as 'a' and 'b' respectively and perform concatenation."
      ]
    },
    {
      "cell_type": "code",
      "metadata": {
        "colab": {
          "base_uri": "https://localhost:8080/",
          "height": 357
        },
        "id": "LxGwKPTVbbXV",
        "outputId": "2032a736-39ad-4f36-e131-ea3c48f0261d"
      },
      "source": [
        "import pandas as pd\n",
        "import numpy as np\n",
        "df = pd.DataFrame(np.random.randn(10, 4))\n",
        "df\n",
        "#please provide your answer below this line"
      ],
      "execution_count": null,
      "outputs": [
        {
          "output_type": "execute_result",
          "data": {
            "text/html": [
              "<div>\n",
              "<style scoped>\n",
              "    .dataframe tbody tr th:only-of-type {\n",
              "        vertical-align: middle;\n",
              "    }\n",
              "\n",
              "    .dataframe tbody tr th {\n",
              "        vertical-align: top;\n",
              "    }\n",
              "\n",
              "    .dataframe thead th {\n",
              "        text-align: right;\n",
              "    }\n",
              "</style>\n",
              "<table border=\"1\" class=\"dataframe\">\n",
              "  <thead>\n",
              "    <tr style=\"text-align: right;\">\n",
              "      <th></th>\n",
              "      <th>0</th>\n",
              "      <th>1</th>\n",
              "      <th>2</th>\n",
              "      <th>3</th>\n",
              "    </tr>\n",
              "  </thead>\n",
              "  <tbody>\n",
              "    <tr>\n",
              "      <th>0</th>\n",
              "      <td>0.282895</td>\n",
              "      <td>-0.271730</td>\n",
              "      <td>0.567977</td>\n",
              "      <td>-0.326143</td>\n",
              "    </tr>\n",
              "    <tr>\n",
              "      <th>1</th>\n",
              "      <td>0.453375</td>\n",
              "      <td>0.449479</td>\n",
              "      <td>-0.674270</td>\n",
              "      <td>-0.429871</td>\n",
              "    </tr>\n",
              "    <tr>\n",
              "      <th>2</th>\n",
              "      <td>1.945358</td>\n",
              "      <td>0.724835</td>\n",
              "      <td>-1.106416</td>\n",
              "      <td>-0.109206</td>\n",
              "    </tr>\n",
              "    <tr>\n",
              "      <th>3</th>\n",
              "      <td>0.231022</td>\n",
              "      <td>-1.157000</td>\n",
              "      <td>-0.037937</td>\n",
              "      <td>0.596974</td>\n",
              "    </tr>\n",
              "    <tr>\n",
              "      <th>4</th>\n",
              "      <td>-1.406459</td>\n",
              "      <td>1.477057</td>\n",
              "      <td>1.672256</td>\n",
              "      <td>0.215526</td>\n",
              "    </tr>\n",
              "    <tr>\n",
              "      <th>5</th>\n",
              "      <td>-1.210518</td>\n",
              "      <td>-1.126401</td>\n",
              "      <td>-0.694657</td>\n",
              "      <td>0.885263</td>\n",
              "    </tr>\n",
              "    <tr>\n",
              "      <th>6</th>\n",
              "      <td>0.112375</td>\n",
              "      <td>1.087429</td>\n",
              "      <td>1.539120</td>\n",
              "      <td>0.718470</td>\n",
              "    </tr>\n",
              "    <tr>\n",
              "      <th>7</th>\n",
              "      <td>0.519946</td>\n",
              "      <td>0.064309</td>\n",
              "      <td>0.308372</td>\n",
              "      <td>-0.912691</td>\n",
              "    </tr>\n",
              "    <tr>\n",
              "      <th>8</th>\n",
              "      <td>-0.665896</td>\n",
              "      <td>-0.994825</td>\n",
              "      <td>0.077734</td>\n",
              "      <td>-0.215318</td>\n",
              "    </tr>\n",
              "    <tr>\n",
              "      <th>9</th>\n",
              "      <td>-0.793756</td>\n",
              "      <td>0.211942</td>\n",
              "      <td>-2.339138</td>\n",
              "      <td>1.447972</td>\n",
              "    </tr>\n",
              "  </tbody>\n",
              "</table>\n",
              "</div>"
            ],
            "text/plain": [
              "          0         1         2         3\n",
              "0  0.282895 -0.271730  0.567977 -0.326143\n",
              "1  0.453375  0.449479 -0.674270 -0.429871\n",
              "2  1.945358  0.724835 -1.106416 -0.109206\n",
              "3  0.231022 -1.157000 -0.037937  0.596974\n",
              "4 -1.406459  1.477057  1.672256  0.215526\n",
              "5 -1.210518 -1.126401 -0.694657  0.885263\n",
              "6  0.112375  1.087429  1.539120  0.718470\n",
              "7  0.519946  0.064309  0.308372 -0.912691\n",
              "8 -0.665896 -0.994825  0.077734 -0.215318\n",
              "9 -0.793756  0.211942 -2.339138  1.447972"
            ]
          },
          "metadata": {},
          "execution_count": 12
        }
      ]
    },
    {
      "cell_type": "code",
      "metadata": {
        "id": "h290MAgudPQI"
      },
      "source": [
        "import pandas as pd\n",
        "\n",
        "import numpy as np\n",
        "\n",
        "df=pd.DataFrame (np.random.randn(10, 4))\n",
        "\n",
        "print (df)\n",
        "\n",
        "#please provide your answer below this line\n",
        "\n",
        "pieces=[df[:3],df[3:8]]\n",
        "\n",
        "print (pieces)\n",
        "\n",
        "print (pd.concat(pieces))\n",
        "\n",
        "print (pd.concat( pieces,axis=1))\n",
        "\n",
        "a=df[:3]\n",
        "\n",
        "b = df * [3/8]\n",
        "\n",
        "print(pd.concat([a,b]))"
      ],
      "execution_count": null,
      "outputs": []
    }
  ]
}