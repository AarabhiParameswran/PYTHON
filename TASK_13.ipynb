{
  "nbformat": 4,
  "nbformat_minor": 0,
  "metadata": {
    "colab": {
      "name": "TASK 13.ipynb",
      "provenance": [],
      "include_colab_link": true
    },
    "kernelspec": {
      "name": "python3",
      "display_name": "Python 3"
    },
    "language_info": {
      "name": "python"
    }
  },
  "cells": [
    {
      "cell_type": "markdown",
      "metadata": {
        "id": "view-in-github",
        "colab_type": "text"
      },
      "source": [
        "<a href=\"https://colab.research.google.com/github/AarabhiParameswran/PYTHON/blob/main/TASK_13.ipynb\" target=\"_parent\"><img src=\"https://colab.research.google.com/assets/colab-badge.svg\" alt=\"Open In Colab\"/></a>"
      ]
    },
    {
      "cell_type": "markdown",
      "metadata": {
        "id": "RUSoRkrOqNwf"
      },
      "source": [
        "1. Create a 3x3 array values ranging from 0-8.Find the sum of the elements in this array."
      ]
    },
    {
      "cell_type": "code",
      "metadata": {
        "id": "t01ATYQpqq8u"
      },
      "source": [
        "#please enter your code below this line.\n",
        "import numpy as np\n",
        "a=np.arange(0,9).reshape(3,3)\n",
        "print(a)\n",
        "b=np.sum(a)\n",
        "print(b)"
      ],
      "execution_count": null,
      "outputs": []
    },
    {
      "cell_type": "markdown",
      "metadata": {
        "id": "k3Y7nQF7r3IW"
      },
      "source": [
        "2. Create a 3x3 array values ranging from 0-8.Find the row sum and column sum of this array."
      ]
    },
    {
      "cell_type": "code",
      "metadata": {
        "id": "BzvIlWfvsICv"
      },
      "source": [
        "#please enter your code below this line.\n",
        "import numpy as np\n",
        "a=np.arange(0,9).reshape(3,3)\n",
        "print(a)\n",
        "b=a.sum(axis=1)\n",
        "c=a.sum(axis=0)\n",
        "print(b)\n",
        "print(c)"
      ],
      "execution_count": null,
      "outputs": []
    },
    {
      "cell_type": "markdown",
      "metadata": {
        "id": "KOPMsbnrsgue"
      },
      "source": [
        "3. Create a 4x4 array values ranging from 0-15. Now,\n",
        "\n",
        "    a) Find the mininmum value in the array.\n",
        "    \n",
        "    b) Find the maximum value in the array.\n",
        "\n",
        "    c) Find the mean of the values in the array."
      ]
    },
    {
      "cell_type": "code",
      "metadata": {
        "id": "1UzITxp3WDaW"
      },
      "source": [
        "import numpy as np\n",
        "a=np.arange(0,16).reshape(4,4)\n",
        "print(a)\n",
        "b=np.min(a)\n",
        "c=np.max(a)\n",
        "d=np.mean(a)\n",
        "print(b)\n",
        "print(c)\n",
        "print(d)#please enter your code belowthis line."
      ],
      "execution_count": null,
      "outputs": []
    },
    {
      "cell_type": "markdown",
      "metadata": {
        "id": "Pah9qGButoz2"
      },
      "source": [
        "4. Create an 10x10 array values ranging from 0-99.And ,\n",
        "\n",
        "    a) Print the 7th row.\n",
        "    \n",
        "    b) Print the rows from 4-8.\n",
        "\n",
        "    c) Print the value at the index 5,5.\n",
        "\n",
        "    d) Print the 5th colomn.\n",
        "\n",
        "    e) Print the columns from 2-5."
      ]
    },
    {
      "cell_type": "code",
      "metadata": {
        "id": "JFXPq0GkvhKi"
      },
      "source": [
        "#please enter your code below this line.\n",
        "import numpy as np\n",
        "a=np.arange(0,100).reshape(10,10)\n",
        "print(a)\n",
        "print(a[6])\n",
        "print(a[3:8])\n",
        "print(a[5][5])\n",
        "print(a[:,4])\n",
        "print(a[:,1:4])"
      ],
      "execution_count": null,
      "outputs": []
    }
  ]
}