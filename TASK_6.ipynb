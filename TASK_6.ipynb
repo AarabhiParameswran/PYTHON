{
  "nbformat": 4,
  "nbformat_minor": 0,
  "metadata": {
    "colab": {
      "name": "TASK 6.ipynb",
      "provenance": [],
      "include_colab_link": true
    },
    "kernelspec": {
      "name": "python3",
      "display_name": "Python 3"
    },
    "language_info": {
      "name": "python"
    }
  },
  "cells": [
    {
      "cell_type": "markdown",
      "metadata": {
        "id": "view-in-github",
        "colab_type": "text"
      },
      "source": [
        "<a href=\"https://colab.research.google.com/github/AarabhiParameswran/PYTHON/blob/main/TASK_6.ipynb\" target=\"_parent\"><img src=\"https://colab.research.google.com/assets/colab-badge.svg\" alt=\"Open In Colab\"/></a>"
      ]
    },
    {
      "cell_type": "markdown",
      "metadata": {
        "id": "2aT_QhgIny6V"
      },
      "source": [
        "1. Write a Python program to find those numbers which are divisible by 7 and multiple of 11, between 11000 and 2000 (both included)."
      ]
    },
    {
      "cell_type": "code",
      "metadata": {
        "id": "KlFG2BFZoEEU"
      },
      "source": [
        "#please enter your answer below this line\n",
        "for i in range(1000,2000):\n",
        " if(i%7==0) and (i%11==0):\n",
        "  print (i)"
      ],
      "execution_count": null,
      "outputs": []
    },
    {
      "cell_type": "markdown",
      "metadata": {
        "id": "ZesHXUMboLu7"
      },
      "source": [
        "2. Write a program to print this pattern\n",
        "\n",
        "           #\n",
        "          ## \n",
        "         ###"
      ]
    },
    {
      "cell_type": "code",
      "metadata": {
        "id": "64-aUjWbohqz"
      },
      "source": [
        "#please enter your answer below this line\n",
        "n=int(input(\"Enter a number\"))\n",
        "k=n-1\n",
        "for i in range(0,n):\n",
        " for j in range(0,k):\n",
        "  print(end=\" \")\n",
        " k=k-1\n",
        " for j in range(0, i+1):\n",
        "  print(\"# \", end=\"\")\n",
        " print(\"\\r\")"
      ],
      "execution_count": null,
      "outputs": []
    },
    {
      "cell_type": "markdown",
      "metadata": {
        "id": "6ZepaaI-ow6W"
      },
      "source": [
        "3. list=[apple, orange, apple, banana]\n",
        ". Replace all the apple in the list with grapes using for loop"
      ]
    },
    {
      "cell_type": "code",
      "metadata": {
        "id": "D7UOyf_6o6Ax"
      },
      "source": [
        "#please enter your answer below this line\n",
        "list=[\"apple\",\" orange\", \"apple\", \"banana\"]\n",
        "print(list[:])\n",
        "for i in range (0,4):\n",
        " if(list[i]==\"apple\"):\n",
        "  list [i]=\"grape\"\n",
        "print(list[:])"
      ],
      "execution_count": null,
      "outputs": []
    }
  ]
}