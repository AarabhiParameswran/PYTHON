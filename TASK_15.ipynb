{
  "nbformat": 4,
  "nbformat_minor": 0,
  "metadata": {
    "colab": {
      "name": "TASK 15.ipynb",
      "provenance": [],
      "include_colab_link": true
    },
    "kernelspec": {
      "name": "python3",
      "display_name": "Python 3"
    },
    "language_info": {
      "name": "python"
    }
  },
  "cells": [
    {
      "cell_type": "markdown",
      "metadata": {
        "id": "view-in-github",
        "colab_type": "text"
      },
      "source": [
        "<a href=\"https://colab.research.google.com/github/AarabhiParameswran/PYTHON/blob/main/TASK_15.ipynb\" target=\"_parent\"><img src=\"https://colab.research.google.com/assets/colab-badge.svg\" alt=\"Open In Colab\"/></a>"
      ]
    },
    {
      "cell_type": "markdown",
      "metadata": {
        "id": "mmfmNpvywy0n"
      },
      "source": [
        "1. For the given ndarray b below, evaluate whether elements in array, b are equal to 'red'.Assign the result to b_bool and print the resultant boolean array.\n",
        "b = np.array([\"blue\", \"blue\", \"red\", \"blue\"])"
      ]
    },
    {
      "cell_type": "code",
      "metadata": {
        "id": "KyVrfhasw7SW"
      },
      "source": [
        "#please type your answer below this line.\n",
        "import numpy as np\n",
        "b=np.array([\"blue\",\"blue\",\"red\",\"blue\"])\n",
        "print (b)\n",
        "print (b==\"red\")"
      ],
      "execution_count": null,
      "outputs": []
    },
    {
      "cell_type": "markdown",
      "metadata": {
        "id": "1IEqtJSDzx3p"
      },
      "source": [
        "2. Create two arrays on containing elements from 0-5 and another containing elements from 6-10. Then append this array."
      ]
    },
    {
      "cell_type": "code",
      "metadata": {
        "id": "7PXETiqF0Jeo"
      },
      "source": [
        "import numpy as np\n",
        "a=np.arange(0,6)\n",
        "b=np.arange(6,11)\n",
        "c=np.append(a,b)\n",
        "print(c)#please type your answer below this line."
      ],
      "execution_count": null,
      "outputs": []
    },
    {
      "cell_type": "markdown",
      "metadata": {
        "id": "6JqR9EeB0P6K"
      },
      "source": [
        "3. Create a 2x4 array containing values from 0-7 and another 2x4 containing values from 8-15. Now append this with,\n",
        "\n",
        "  a) axis as 0\n",
        "\n",
        "  b) axis as 1"
      ]
    },
    {
      "cell_type": "code",
      "metadata": {
        "id": "AVhGyXzr1Pd8"
      },
      "source": [
        "#please type your answer below this line.\n",
        "import numpy as np\n",
        "a=np.arange(0,8).reshape(2,4)\n",
        "b=np.arange(8,16).reshape(2,4)\n",
        "c=np.append(a,b,axis=0)\n",
        "print(c)\n",
        "d=np.append(a,b,axis=1)\n",
        "print(d)"
      ],
      "execution_count": null,
      "outputs": []
    }
  ]
}