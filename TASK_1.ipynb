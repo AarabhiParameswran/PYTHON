{
  "nbformat": 4,
  "nbformat_minor": 0,
  "metadata": {
    "colab": {
      "name": "TASK 1",
      "provenance": [],
      "include_colab_link": true
    },
    "kernelspec": {
      "name": "python3",
      "display_name": "Python 3"
    },
    "language_info": {
      "name": "python"
    }
  },
  "cells": [
    {
      "cell_type": "markdown",
      "metadata": {
        "id": "view-in-github",
        "colab_type": "text"
      },
      "source": [
        "<a href=\"https://colab.research.google.com/github/AarabhiParameswran/eventportal/blob/main/TASK_1.ipynb\" target=\"_parent\"><img src=\"https://colab.research.google.com/assets/colab-badge.svg\" alt=\"Open In Colab\"/></a>"
      ]
    },
    {
      "cell_type": "markdown",
      "metadata": {
        "id": "q-yWxfWESiQo"
      },
      "source": [
        "1.Write a program that uses input to prompt a user for their name and then welcomes them."
      ]
    },
    {
      "cell_type": "code",
      "metadata": {
        "id": "9ikpRxqMSxu0"
      },
      "source": [
        "#please provide your answer here below this line\n",
        "name=input(\"Enter your name\")\n",
        "print (\"welcome to python world\", name)\n"
      ],
      "execution_count": null,
      "outputs": []
    },
    {
      "cell_type": "markdown",
      "metadata": {
        "id": "Ay5OdxguS-2Z"
      },
      "source": [
        "2.Write a program which prompts the user for a Celsius temperature, convert the temperature to Fahrenheit, and print out the converted temperature."
      ]
    },
    {
      "cell_type": "code",
      "metadata": {
        "id": "MMv2yWNtTgEu"
      },
      "source": [
        "#please provide your answer here below this line\n",
        "n= float(input(\"Enter temperature in celsius\"))\n",
        "f=(n*9/5)+32\n",
        "print(\"converted temperature from \",n,\"celsius to fahrenheit is\")\n",
        "print (f)\n"
      ],
      "execution_count": null,
      "outputs": []
    },
    {
      "cell_type": "markdown",
      "metadata": {
        "id": "v6O1a198TpNd"
      },
      "source": [
        "3.Write a Python program to convert degree to radian."
      ]
    },
    {
      "cell_type": "code",
      "metadata": {
        "id": "27Jj4_D0UQBA"
      },
      "source": [
        "#please provide your answer here below this line\n",
        "deg=float(input(\"Enter the angle in degree\"))\n",
        "pi=22/7\n",
        "rad=deg*(pi/180)\n",
        "print(\"Entered degree is converted\")\n",
        "print(deg,\"degree =\",rad,\"radian angle\")\n"
      ],
      "execution_count": null,
      "outputs": []
    }
  ]
}